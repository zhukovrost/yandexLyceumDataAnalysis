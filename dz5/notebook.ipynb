{
 "cells": [
  {
   "cell_type": "markdown",
   "source": [
    "# ДЗ 5 неделя"
   ],
   "metadata": {
    "collapsed": false
   },
   "id": "1802971a77422629"
  },
  {
   "cell_type": "markdown",
   "source": [
    "## Импорт библиотек"
   ],
   "metadata": {
    "collapsed": false
   },
   "id": "4e11522831485aff"
  },
  {
   "cell_type": "code",
   "execution_count": 160,
   "id": "initial_id",
   "metadata": {
    "collapsed": true,
    "ExecuteTime": {
     "end_time": "2024-03-08T18:02:12.577327Z",
     "start_time": "2024-03-08T18:02:12.574020Z"
    }
   },
   "outputs": [],
   "source": [
    "import pandas as pd\n",
    "import scipy.stats as st\n",
    "import matplotlib.pyplot as plt\n",
    "import seaborn as sns"
   ]
  },
  {
   "cell_type": "markdown",
   "source": [
    "## Первая задача\n",
    "\n",
    "Интернет-компания “Шарики к празднику” приняла решение улучшить сайт. Были внесены изменения и заработала новая версия сайта на трёх регионах: ['Северо-запад', 'Урал', 'Центр']. Необходимо понять отличается ли время проведённое на сайте, ДО и ПОСЛЕ внесённых изменений по каждому региону. Для этого написать программу, которая бы выводила р-уровень при сравнении среднего времени, проведённого на сайте, по каждому региону.\n",
    "\n",
    "Данные из файла data.csv.\n",
    "Разделитель значений - точка с запятой. Разделителем дробных чисел применяется запятая. В таблице даны три столбца. Названия столбцов - показаны ниже\n",
    "\n",
    "- в первом столбце - время_до\n",
    "- во втором столбце - время_после\n",
    "- в третьем столбце названия регионов - регион\n",
    "\n",
    "В программе необходимо учесть:\n",
    "\n",
    "- данные распределены не нормально.\n",
    "- Результат вывести в виде списка списков. Первый список - названия выводимых результатов: ['регион', 'р-уровень']. Остальные списки - расчёты по каждому региону.\n",
    "- Значение р-уровня округлить до четвёртого знака.\n",
    "- Для расчёта использовать библиотеку scipy.stats\n",
    "- Выходной список списков отсортировать по значению р-уровню в порядке убывания значимости (чем меньше р-уровень, тем выше значимость)"
   ],
   "metadata": {
    "collapsed": false
   },
   "id": "617b6510732e9374"
  },
  {
   "cell_type": "code",
   "outputs": [
    {
     "name": "stdout",
     "output_type": "stream",
     "text": [
      "[['регион', 'р-уровень'], ['Центр', 0.004], ['Урал', 0.0094], ['Северо-запад', 0.5067]]\n"
     ]
    }
   ],
   "source": [
    "df = pd.read_csv('1_5.csv', encoding=\"cp1251\", delimiter=\";\", decimal=\",\", skipinitialspace=True)\n",
    "regions = set(df['регион'])\n",
    "regions_adv = []\n",
    "for region in regions:\n",
    "    fraction = df[df[\"регион\"] == region]\n",
    "    _, p_val = st.mannwhitneyu(x=fraction[\"время_до\"], y=fraction[\"время_после\"])\n",
    "    regions_adv.append([region, round(p_val, 4)])\n",
    "\n",
    "regions_adv.sort(key=lambda x: x[1], reverse=False)\n",
    "print([[\"регион\", \"р-уровень\"], *regions_adv])"
   ],
   "metadata": {
    "collapsed": false,
    "ExecuteTime": {
     "end_time": "2024-03-08T18:02:12.606544Z",
     "start_time": "2024-03-08T18:02:12.595150Z"
    }
   },
   "id": "6d2cb4803dc03c8e",
   "execution_count": 161
  },
  {
   "cell_type": "markdown",
   "source": [
    "## Вторая задача\n",
    "\n",
    "Даны пять показателей здоровья по двум группам пациентов. Все пациенты в таблице записаны по строкам. Разделение по группам происходит с помощью столбца group. Необходимо написать программу, которая бы выводила р-уровень при сравнении всех количественных факторов здоровья по двум группам между собой.\n",
    "\n",
    "Данные из файла data.csv.\n",
    "Разделитель значений - точка с запятой. Разделителем дробных чисел применяется запятая. В таблице даны 6 столбцов. Названия столбцов - показаны ниже\n",
    "\n",
    "- в первом столбце group - названия групп\n",
    "- во втором столбце S, мм.кв - показатель здоровья\n",
    "- в третьем столбце Av, мДж/с - показатель здоровья\n",
    "- в четвёртом столбце X, мм - показатель здоровья\n",
    "- в пятом столбце Y, мм - показатель здоровья\n",
    "- в шестом столбце V, мм/с - показатель здоровья\n",
    "\n",
    "В программе необходимо учесть:\n",
    "\n",
    "- Если данные в обеих группах распределены нормально, то для сравнения использовать метод Стьюдент с различной дисперсией. Если хотя бы в одной группе - не нормальное распределение, то для сравнения использовать метод Манн-Уитни. Для проверки на нормальность использовать метод Шапиро c уровнем принятия решения 0.05.\n",
    "- Результат вывести в виде списка списков. Первый список - названия выводимых результатов: ['показатель', 'р-уровень', 'метод расчёта']. Остальные списки - расчёты по каждому фактору.\n",
    "- Значение р-уровня округлить до 4 знака.\n",
    "- Для расчёта использовать библиотеку scipy.stats\n",
    "- Выходной список списков отсортировать по значению р-уровню в порядке убывания значимости (чем меньше р-уровень, тем выше значимость)"
   ],
   "metadata": {
    "collapsed": false
   },
   "id": "18817d2fc57b04a5"
  },
  {
   "cell_type": "code",
   "outputs": [
    {
     "name": "stdout",
     "output_type": "stream",
     "text": [
      "[['показатель', 'р-уровень', 'метод расчёта'], ['V, мм/с', 0.2019, 'Манн-Уитни'], ['Av, мДж/с', 0.202, 'Манн-Уитни'], ['Y, мм ', 0.6069, 'Манн-Уитни'], ['S, мм.кв', 0.9123, 'Манн-Уитни'], ['X, мм', 0.9927, 'Манн-Уитни']]\n"
     ]
    }
   ],
   "source": [
    "df = pd.read_csv('2.csv', encoding=\"cp1251\", delimiter=\";\", decimal=\",\", skipinitialspace=True)\n",
    "# 'показатель', 'р-уровень', 'метод расчёта'\n",
    "result = []\n",
    "g1, g2 = df[df[\"group\"] == \"group_1\"].reset_index(drop=True), df[df[\"group\"] == \"group_2\"].reset_index(drop=True)\n",
    "columns = df.columns[1:]\n",
    "for col in columns:\n",
    "    if st.shapiro(g1[col])[1] > 0.05 and st.shapiro(g2[col])[1] > 0.05:\n",
    "        _, p_val = st.ttest_ind(x=g1[col], y=g2[col])\n",
    "        method = \"Стьюдент\"\n",
    "    else:\n",
    "        _, p_val = st.mannwhitneyu(x=g1[col], y=g2[col])\n",
    "        method = \"Манн-Уитни\"\n",
    "    result.append([col, round(p_val, 4), method])\n",
    "    \n",
    "    \n",
    "result.sort(key=lambda x: x[1], reverse=False)\n",
    "print([['показатель', 'р-уровень', 'метод расчёта'], *result])"
   ],
   "metadata": {
    "collapsed": false,
    "ExecuteTime": {
     "end_time": "2024-03-08T18:02:12.621930Z",
     "start_time": "2024-03-08T18:02:12.608154Z"
    }
   },
   "id": "92c360c94814cfa2",
   "execution_count": 162
  },
  {
   "cell_type": "markdown",
   "source": [
    "## Третья задача\n",
    "\n",
    "Группа медиков изучает, какой тип зондирования при проведении медицинского осмотра пациентов лучше. Исследуется два типа зондирования: Классическое и Двойное эндоскопическое сопровождение . В таблице они обозначены как фактор(столбец) вид_зондирования. Были зафиксированы случаи осложнений по каждому пациенту. В таблицу заносили по каждому типу осложнений, как да или нет (были или не были осложнения после исследования). Всего возможно четыре типа осложнений. В таблице они обозначены как 4 фактора(столбца) ['тип_осложнения_1', 'тип_осложнения_2', 'тип_осложнения_3', 'тип_осложнения_4'].\n",
    "\n",
    "Данные из файла в data.csv.\n",
    "Разделитель значений - точка с запятой. Разделителем дробных чисел применяется запятая. В таблице даны 6 столбцов. Названия столбцов - показаны ниже\n",
    "\n",
    "в первом столбце вид_зондирования - названия типа зондирования\n",
    "во втором столбце время_зондирования, сек - время операции\n",
    "в третьем столбце тип_осложнения_1 - тип осложнения\n",
    "в четвёртом столбце тип_осложнения_2 - тип осложнения\n",
    "в пятом столбце тип_осложнения_3 - тип осложнения\n",
    "в шестом столбце тип_осложнения_4 - тип осложнения\n",
    "\n",
    "Необходимо написать программу, которая бы выводила р-уровень при сравнении каждого типа осложнений и типа зондирования.\n",
    "\n",
    "- В программе необходимо учесть:\n",
    "- результатом работы функции должен быть список списков. Первый список - названия выводимых результатов: ['показатель', 'р-уровень']. Остальные списки - расчёты по каждому типу осложнения.\n",
    "- значение р-уровня округлить до 4 знака.\n",
    "- для расчёта использовать библиотеку scipy.stats\n",
    "- выходной список списков отсортировать по значению р-уровню в порядке убывания значимости (чем меньше р-уровень, тем выше значимость)"
   ],
   "metadata": {
    "collapsed": false
   },
   "id": "ba820342e2859b69"
  },
  {
   "cell_type": "code",
   "outputs": [
    {
     "name": "stdout",
     "output_type": "stream",
     "text": [
      "[['Показатель', 'р-уровень'], ['тип_осложнения_1', 0.0045], ['тип_осложнения_4', 0.3886], ['тип_осложнения_2', 0.4974], ['тип_осложнения_3', 1.0]]\n"
     ]
    }
   ],
   "source": [
    "df = pd.read_csv('3.csv', encoding=\"cp1251\", delimiter=\";\", decimal=\",\", skipinitialspace=True)\n",
    "types = df.columns[2:]\n",
    "result = []\n",
    "for t in types:\n",
    "    ct = pd.crosstab(df[\"вид_зондирования\"], df[t])\n",
    "    p = st.chi2_contingency(ct, correction=True)[1]\n",
    "    result.append([t, round(p, 4)])\n",
    "\n",
    "result.sort(key=lambda x: x[1], reverse=False)\n",
    "print([['Показатель', 'р-уровень'], *result])"
   ],
   "metadata": {
    "collapsed": false,
    "ExecuteTime": {
     "end_time": "2024-03-08T18:02:12.646766Z",
     "start_time": "2024-03-08T18:02:12.623277Z"
    }
   },
   "id": "7d24352c54ef4b9c",
   "execution_count": 163
  },
  {
   "cell_type": "markdown",
   "source": [
    "## Четвёртая задача\n",
    "\n",
    "Даны десять показателей здоровья по двум группам пациентов Группа_1 и Группа_2. Все пациенты в таблице записаны по строкам. Разделение по группам происходит с помощью столбца Группа. Необходимо написать программу, которая бы выводила значение корреляции и р-уровень в Группе_1 по каждой паре количественных факторов из исходной таблицы.\n",
    "\n",
    "Данные из файла data.csv.\n",
    "Разделитель значений - точка с запятой. Разделителем дробных чисел применяется запятая. В таблице даны 11 столбцов. Названия столбцов - показаны ниже\n",
    "\n",
    "в первом столбце группа - группы пациентов\n",
    "во втором столбце К - показатель здоровья\n",
    "в третьем столбце Ca - показатель здоровья\n",
    "в четвёртом столбце V - показатель здоровья\n",
    "в пятом столбце Cd - показатель здоровья\n",
    "в шестом столбце I - показатель здоровья\n",
    "в седьмом столбце Pb - показатель здоровья\n",
    "в восьмом столбце Q39_Corineform - показатель здоровья\n",
    "в девятом столбце Q56_Pseudonocardia - показатель здоровья\n",
    "в десятом столбце Q56Общеекол-во_МО - показатель здоровья\n",
    "в одиннадцатом столбце Q57Плазмологенмкг/мл - показатель здоровья\n",
    "\n",
    "В программе необходимо учесть:\n",
    "\n",
    "- Если данные в обоих сравниваемых факторов распределены нормально, то для сравнения использовать метод корреляции Пирсон. Если хотя бы в одном факторе - не нормальное распределение, то для расчёта корреляции использовать метод Спирмен. Для проверки на нормальность использовать метод Шапиро c уровнем принятия решения 0.05.\n",
    "- Результат вывести в виде списка списков. Первый список - названия выводимых результатов: ['показатель 1', 'показатель 2', 'значение корреляции', 'р-уровень', 'метод корреляции']. Остальные списки - расчёты по каждому фактору.\n",
    "- Значение р-уровня округлить до четвёртого знака.\n",
    "\n",
    "- Значение корреляции округлить до второго знака.\n",
    "- Вывести только те расчёты, у которых р-уровень меньше 0.05\n",
    "- Корреляцию показателя самого с собой - не выводить.\n",
    "- Дублирование строк - исключить. (дублирование это: влияние 'xy' равно влиянию 'yx')\n",
    "- Для расчёта использовать библиотеку scipy.stats\n",
    "- Итоговый список списков отсортировать по значению корреляции в порядке убывания значимости (чем меньше р-уровень, тем выше значимость)"
   ],
   "metadata": {
    "collapsed": false
   },
   "id": "785464959a020b0e"
  },
  {
   "cell_type": "code",
   "outputs": [
    {
     "name": "stdout",
     "output_type": "stream",
     "text": [
      "[['показатель 1', 'показатель 2', 'значение корреляции', 'р-уровень', 'метод корреляции'], ['Q39_Corineform', 'Q56_Общее_кол-во_МО', 0.73, 0.0, 'Спирмен'], ['Q56_Pseudonocardia', 'Q56_Общее_кол-во_МО', 0.61, 0.0001, 'Спирмен'], ['Q39_Corineform', 'Q56_Pseudonocardia', 0.58, 0.0002, 'Спирмен'], ['K', 'V', 0.54, 0.0008, 'Спирмен'], ['V', 'Cd', 0.48, 0.0036, 'Спирмен'], ['Q56_Pseudonocardia', 'Q57_Плазмологен_мкг/мл', 0.37, 0.0276, 'Пирсон'], ['Ca', 'Q57_Плазмологен_мкг/мл', 0.35, 0.0415, 'Пирсон'], ['Cd', 'Q56_Pseudonocardia', -0.37, 0.0292, 'Спирмен'], ['V', 'Q39_Corineform', -0.42, 0.0123, 'Спирмен'], ['V', 'Q56_Общее_кол-во_МО', -0.43, 0.0099, 'Спирмен'], ['I', 'Q39_Corineform', -0.46, 0.0052, 'Спирмен'], ['Cd', 'Q56_Общее_кол-во_МО', -0.5, 0.0025, 'Спирмен'], ['Cd', 'Q39_Corineform', -0.61, 0.0001, 'Спирмен']]\n"
     ]
    }
   ],
   "source": [
    "df = pd.read_csv('4.csv', encoding=\"cp1251\", delimiter=\";\", decimal=\",\", skipinitialspace=True)\n",
    "cols = df.columns[1:]\n",
    "df = df[df[\"Группа\"] == \"Группа_1\"].reset_index(drop=True)[cols]\n",
    "result = []\n",
    "for i in range(len(cols)):\n",
    "    for j in range(i + 1, len(cols)):\n",
    "        col_i, col_j = cols[i], cols[j]\n",
    "        data_i, data_j = df[col_i], df[col_j]\n",
    "        if st.shapiro(data_i)[1] > 0.05 and st.shapiro(data_j)[1] > 0.05:\n",
    "            method = \"Пирсон\"\n",
    "            cor, p_val = st.pearsonr(x=data_i, y=data_j)\n",
    "        else:\n",
    "            method = \"Спирмен\"\n",
    "            cor, p_val = st.spearmanr(data_i, data_j)\n",
    "        \n",
    "        if p_val < 0.05:\n",
    "            result.append([col_i, col_j, round(cor, 2), round(p_val, 4), method])\n",
    "\n",
    "result.sort(key=lambda x: x[2], reverse=True)\n",
    "print([['показатель 1', 'показатель 2', 'значение корреляции', 'р-уровень', 'метод корреляции'], *result])"
   ],
   "metadata": {
    "collapsed": false,
    "ExecuteTime": {
     "end_time": "2024-03-08T18:02:12.674961Z",
     "start_time": "2024-03-08T18:02:12.648670Z"
    }
   },
   "id": "20961e0ccb52c699",
   "execution_count": 164
  },
  {
   "cell_type": "markdown",
   "source": [
    "## Пятая задача\n",
    "\n",
    "Перед вами данные, как и в первой задаче.\n",
    "Там речь шла об интернет-компании “Шарики к празднику”.\n",
    "Она внедряла улучшения в дизайне сайта. Новая версия сайта работала на трёх регионах: ['Северо-запад', 'Урал', 'Центр'].\n",
    "\n",
    "В исходной таблице три столбца: время_до, время_после, регион\n",
    "\n",
    "Построить график \"ящик с усами\" по факторам время_до, время_после.\n",
    "Необходимо учесть:\n",
    "\n",
    "- Два ящика выводить на одном графике;\n",
    "- Сделать код, который бы строил график по одному региону. Регион вводится;\n",
    "- Параметры графика оставить по умолчанию.\n",
    "- файл с графиком надо сохранять с названием target_5_5.png"
   ],
   "metadata": {
    "collapsed": false
   },
   "id": "2a63e3dc6dae64e2"
  },
  {
   "cell_type": "code",
   "outputs": [
    {
     "data": {
      "text/plain": "<Figure size 640x480 with 1 Axes>",
      "image/png": "[encoded data removed]"
     },
     "metadata": {},
     "output_type": "display_data"
    }
   ],
   "source": [
    "df = pd.read_csv('1_5.csv', encoding=\"cp1251\", delimiter=\";\", decimal=\",\", skipinitialspace=True)\n",
    "\n",
    "region = input()\n",
    "df = df[df[\"регион\"] == region].reset_index(drop=True)\n",
    "sns.boxplot(data=[df[\"время_до\"], df[\"время_после\"]], orient=\"h\").set_xlabel(\"время\")\n",
    "plt.savefig(\"target_5_5.png\")\n"
   ],
   "metadata": {
    "collapsed": false,
    "ExecuteTime": {
     "end_time": "2024-03-08T18:02:21.931575Z",
     "start_time": "2024-03-08T18:02:12.676242Z"
    }
   },
   "id": "a325830127594dc8",
   "execution_count": 165
  },
  {
   "cell_type": "code",
   "outputs": [],
   "source": [],
   "metadata": {
    "collapsed": false,
    "ExecuteTime": {
     "end_time": "2024-03-08T18:02:21.935846Z",
     "start_time": "2024-03-08T18:02:21.933166Z"
    }
   },
   "id": "1e9a6651951b831d",
   "execution_count": 165
  }
 ],
 "metadata": {
  "kernelspec": {
   "display_name": "Python 3",
   "language": "python",
   "name": "python3"
  },
  "language_info": {
   "codemirror_mode": {
    "name": "ipython",
    "version": 2
   },
   "file_extension": ".py",
   "mimetype": "text/x-python",
   "name": "python",
   "nbconvert_exporter": "python",
   "pygments_lexer": "ipython2",
   "version": "2.7.6"
  }
 },
 "nbformat": 4,
 "nbformat_minor": 5
}
