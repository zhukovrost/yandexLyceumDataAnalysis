{
 "cells": [
  {
   "cell_type": "markdown",
   "source": [
    "# ДЗ 4 неделя"
   ],
   "metadata": {
    "collapsed": false
   },
   "id": "dce27a70c36a1c79"
  },
  {
   "cell_type": "markdown",
   "source": [
    "## Импорт библиотек"
   ],
   "metadata": {
    "collapsed": false
   },
   "id": "837aa9dff7ea2237"
  },
  {
   "cell_type": "code",
   "execution_count": 26,
   "id": "initial_id",
   "metadata": {
    "collapsed": true,
    "ExecuteTime": {
     "end_time": "2024-03-03T10:51:43.664480Z",
     "start_time": "2024-03-03T10:51:43.662051Z"
    }
   },
   "outputs": [],
   "source": [
    "import pandas as pd\n",
    "import numpy as np\n",
    "import matplotlib.pyplot as plt\n",
    "import seaborn as sns\n",
    "import scipy.stats as st"
   ]
  },
  {
   "cell_type": "markdown",
   "source": [
    "## Первое задание\n",
    "\n",
    "Вам поручено провести исследование по вопросу вывода нового продукта на рынок. В ходе исследования были опрошены 1200 человек (число_опрошенных = 1200). 25% из них заинтересовались новым продуктом (доля_ответов(р) = 0.25).\n",
    "\n",
    "Рассчитайте показатель ошибки выборочного расчёта (или по другому - предельная ошибка “Н”) при условии доверительного уровня Z, равного 95%. И выведите ответ в формате интервала p - Н и p + Н. Ответ дайте в процентах и с округлением до второго знака.\n",
    "\n",
    "Данные с результатами исследования находятся в файле data.csv с полями:\n",
    " - в первом столбце – число_опрошенных\n",
    " - во втором столбце – доля_ответов\n",
    " - в третьем столбце – доверительный_уровень\n",
    "\n",
    "Разделитель столбцов – точка с запятой, десятичный разделитель – запятая."
   ],
   "metadata": {
    "collapsed": false
   },
   "id": "5c84720a8c6dfc38"
  },
  {
   "cell_type": "code",
   "outputs": [
    {
     "name": "stdout",
     "output_type": "stream",
     "text": [
      "22.55 27.45\n"
     ]
    }
   ],
   "source": [
    "def get_error(amount: int, fraction: float, trust: float):\n",
    "    avg_err = trust * np.sqrt(fraction * (1 - fraction) / amount)\n",
    "    return avg_err\n",
    "\n",
    "\n",
    "n = 1200\n",
    "p = 0.25\n",
    "z = 1.96\n",
    "h = get_error(n, p, z)\n",
    "print(round((p - h) * 100, 2), round((p + h) * 100, 2))"
   ],
   "metadata": {
    "collapsed": false,
    "ExecuteTime": {
     "end_time": "2024-03-03T10:51:43.693133Z",
     "start_time": "2024-03-03T10:51:43.688459Z"
    }
   },
   "id": "5674044d01e901f2",
   "execution_count": 27
  },
  {
   "cell_type": "markdown",
   "source": [
    "### Решение в lms\n",
    "\n",
    "```python\n",
    "df = pd.read_csv(\"data.csv\", skipinitialspace=True, decimal=\",\", sep=\";\")\n",
    "n = df.iloc[0]['число_опрошенных']\n",
    "p = df.iloc[0]['доля_ответов']\n",
    "z = df.iloc[0]['доверительный_уровень']\n",
    "```"
   ],
   "metadata": {
    "collapsed": false
   },
   "id": "2e1100d5adee458f"
  },
  {
   "cell_type": "markdown",
   "source": [
    "## Второе задание\n",
    "\n",
    "На стоянке магазина подержанных автомобилей стоит 1200 машин. Провели осмотр 200 машин и зафиксировали пробег (в тыс км).\n",
    "Требуется рассчитать интервал истинной генеральной доли автомобилей с пробегом более 140. при условии доверительного уровня Z, равного 95%.\n",
    "Расчёт произвести в процентах и с округлением до второго знака. Вывести на экран в виде p - Н и p + Н\n",
    "\n",
    "Данные с результатами исследования находятся в файле data.csv с одним полем: пробег\n",
    "Разделитель столбцов – точка с запятой, десятичный разделитель – запятая."
   ],
   "metadata": {
    "collapsed": false
   },
   "id": "e66b929452ba061d"
  },
  {
   "cell_type": "code",
   "outputs": [
    {
     "name": "stdout",
     "output_type": "stream",
     "text": [
      "49.5 64.79\n"
     ]
    }
   ],
   "source": [
    "df = pd.read_csv(\"avto_2.csv\", encoding=\"cp1251\", skipinitialspace=True, decimal=\",\", sep=\";\")\n",
    "\n",
    "n = df.shape[0]\n",
    "p = df[df[\"пробег\"] > 140].shape[0] / n\n",
    "z = 1.96\n",
    "\n",
    "h = get_error(n, p, z)\n",
    "print(round((p - h) * 100, 2), round((p + h) * 100, 2))"
   ],
   "metadata": {
    "collapsed": false,
    "ExecuteTime": {
     "end_time": "2024-03-03T10:51:43.701683Z",
     "start_time": "2024-03-03T10:51:43.694882Z"
    }
   },
   "id": "2a655408d9917d9a",
   "execution_count": 28
  },
  {
   "cell_type": "markdown",
   "source": [
    "## Третье задание\n",
    "\n",
    "Производитель контролирует вес шоколадки Полёт. Вес в среднем должен быть 70 грамм. Какую выборку нужно отобрать, чтобы с доверительным уровнем Z, равным 95%, обеспечить предельную погрешность среднего Н 1 грамм. Данные об измерениях веса вес_шоколадки представлены в файле.\n",
    "\n",
    "На этапе анализа данных выяснилось, что есть \"супервыбросы\" в данных. Перед проведением расчёта от них необходимо избавиться.\n",
    "Окончательный результат вывести в виде числа, округлённого до целого.\n",
    "Данные с результатами исследования разных шоколадок находятся в файле data.csv с полями:\n",
    "в первом столбце – вес_шоколадки\n",
    "во втором столбце – название\n",
    "Разделитель столбцов – точка с запятой, десятичный разделитель – запятая"
   ],
   "metadata": {
    "collapsed": false
   },
   "id": "78ef63ec68e0a1e0"
  },
  {
   "cell_type": "code",
   "outputs": [
    {
     "name": "stdout",
     "output_type": "stream",
     "text": [
      "1694\n"
     ]
    }
   ],
   "source": [
    "df = pd.read_csv(\"chocol_3.csv\", encoding=\"cp1251\", skipinitialspace=True, decimal=\",\", sep=\";\").dropna()\n",
    "df = df[df['название'] == 'полёт']['вес_шоколадки']\n",
    "df = df[(df > df.quantile(0.01)) & (df < df.quantile(0.99))]\n",
    "o = df.std() ** 2  # дисперсия\n",
    "z = 1.96\n",
    "h = 1\n",
    "print(round((z * o / h) ** 2))"
   ],
   "metadata": {
    "collapsed": false,
    "ExecuteTime": {
     "end_time": "2024-03-03T10:51:43.712386Z",
     "start_time": "2024-03-03T10:51:43.703234Z"
    }
   },
   "id": "1c05b51dbba53a32",
   "execution_count": 29
  },
  {
   "cell_type": "markdown",
   "source": [
    "## Четвёртое задание\n",
    "\n",
    "Необходимо рассчитать объем выборки для проведения опроса населения по вопросу повышения пенсионного возраста, в зависимости от предельной ошибки Н. Соотношение за/против населения по данному вопросу - не известно. Доверительный уровень Z принимаем 95%. H изменяется от 0.01 до 0.1 с шагом 0.01.\n",
    "\n",
    "Результат вывести в виде таблицы DataFrame из двух столбцов.\n",
    "Название первого столбца: допустимая_ошибка: выводим предельную ошибку Н в процентах и в целочисленном виде.\n",
    "Название второго столбца размер_выборки: выводим значение посчитанного объёма выборки n в целочисленном виде."
   ],
   "metadata": {
    "collapsed": false
   },
   "id": "8412c6c1fdc938a6"
  },
  {
   "cell_type": "code",
   "outputs": [
    {
     "name": "stdout",
     "output_type": "stream",
     "text": [
      "   допустимая_ошибка  размер_выборки\n",
      "0                  1            9604\n",
      "1                  2            2401\n",
      "2                  3            1067\n",
      "3                  4             600\n",
      "4                  5             384\n",
      "5                  6             266\n",
      "6                  7             195\n",
      "7                  8             150\n",
      "8                  9             118\n"
     ]
    }
   ],
   "source": [
    "def get_fraction(err, p=0.5, trust=1.96):\n",
    "    return (trust * np.sqrt(p * (1 - p)) / err) ** 2\n",
    "\n",
    "\n",
    "new_df = {\n",
    "    'допустимая_ошибка': [], \n",
    "    'размер_выборки': []\n",
    "}   \n",
    "for i in range(1, 10):\n",
    "    new_df['допустимая_ошибка'].append(i)\n",
    "    new_df['размер_выборки'].append(int(get_fraction(i) * 10000))\n",
    "    \n",
    "new_df = pd.DataFrame.from_dict(new_df)\n",
    "print(new_df)\n"
   ],
   "metadata": {
    "collapsed": false,
    "ExecuteTime": {
     "end_time": "2024-03-03T10:51:43.718762Z",
     "start_time": "2024-03-03T10:51:43.713624Z"
    }
   },
   "id": "b795cf6a0cf15009",
   "execution_count": 30
  },
  {
   "cell_type": "markdown",
   "source": [
    "## Пятое задание\n",
    "\n",
    "За смену выпускается 8000 шоколадок. Необходимо:\n",
    "\n",
    "1) определить предельную ошибку Н для шоколадок с весом более или равным 100 грамм. Результат округлить до третьего знака\n",
    "\n",
    "2) Рассчитать, сколько нужно проконтролировать шоколадок, чтобы улучшить оценку допустимой ошибки (посчитанную в п.1) в 5 раз (новую ошибку также округлить до третьего знака). А размер выборки округлить до целого.\n",
    "\n",
    "Доверительный уровень Z принимаем 95%. Вывод представить в виде пары чисел через запятую: результат пункта 1, результат пункта 2\n",
    "\n",
    "Данные с результатами исследования находятся в файле data.csv с одним полем вес_шоколадки, десятичный разделитель – запятая."
   ],
   "metadata": {
    "collapsed": false
   },
   "id": "cb02bd19b76c854a"
  },
  {
   "cell_type": "code",
   "outputs": [
    {
     "name": "stdout",
     "output_type": "stream",
     "text": [
      "0.109 , 81\n"
     ]
    }
   ],
   "source": [
    "df = pd.read_csv(\"cake_5.csv\", encoding=\"cp1251\", skipinitialspace=True, decimal=\",\", sep=\";\").dropna()\n",
    "df_filter = df[df['вес_шоколадки'] >= 100].reset_index(drop=True)\n",
    "\n",
    "n = df_filter.shape[0]  # кол-во шоколадок, которые можно отобрать\n",
    "p = n / df.shape[0]  # доля таких шоколадок\n",
    "\n",
    "z = 1.96\n",
    "N = 8000\n",
    "\n",
    "selection = (n * N) / (n + N - 1)  # выборка\n",
    "h = round(z * (p * (1 - p) / selection) ** 0.5, 3)  # ответ на 1 пункт\n",
    "h2 = round(h / 5, 3)\n",
    "fraction = (z ** 2 * p * (1 - p)) / (h ** 2 * N)\n",
    "result = (fraction * (N - 1)) / (1 - fraction)\n",
    "print(f\"{h} , {round(result)}\")"
   ],
   "metadata": {
    "collapsed": false,
    "ExecuteTime": {
     "end_time": "2024-03-03T10:51:43.728165Z",
     "start_time": "2024-03-03T10:51:43.720779Z"
    }
   },
   "id": "d43e9c247ce2f32c",
   "execution_count": 31
  },
  {
   "cell_type": "markdown",
   "source": [
    "## Шестое задание\n",
    "\n",
    "В файле data.csv, доступном вашему решению, находится информация с полями (разделитель – запятая):\n",
    "\n",
    "Покупательская активность, Выручка_от_клиента_текущий_месяц\n",
    "\n",
    "Пример таблицы с данными:\n",
    "result\n",
    "\n",
    "Необходимо:\n",
    "1) Перевести название колонок в стандарт PEP8:\n",
    "- перевести в нижний регистр;\n",
    "- пробелы между словами заменить на _;\n",
    "- язык сохранить - кириллица.\n",
    "\n",
    "2) Построить графики гистограммы и ящика с усами на одной картинке. При построении учесть:\n",
    "построить изображение с графиками по категории из фактора \"покупательская активность\". Название категории вводится.\n",
    "использовать библиотеку seaborn;\n",
    "для построения гистограммы использовать histplot() с параметром количества столбцов 30;\n",
    "на гистограмме вывести также график оценки плотности;\n",
    "вывести заголовок диаграммы:\n",
    "Гистограмма и ящик с усами для количественных данных\n",
    "оси графиков не подписывать; те, что по умолчанию - исключить;\n",
    "остальные настройки графика по цвету, шрифту, отступам - оставить по умолчанию;\n",
    "размер изображения задать 9х3 дюймов;\n",
    "Важно учесть: после отбора группы для построения графиков необходимо сбросить индексы.\n",
    "Сохраните диаграмму в файл target_4_6.png."
   ],
   "metadata": {
    "collapsed": false
   },
   "id": "e01be62a6b97a64"
  },
  {
   "cell_type": "code",
   "outputs": [
    {
     "data": {
      "text/plain": "    покупательская_активность  выручка_от_клиента_текущий_месяц\n0             Прежний уровень                              4707\n1                   Снизилась                              4751\n2                   Снизилась                              4607\n3             Прежний уровень                              4182\n4                   Снизилась                              4484\n..                        ...                               ...\n300           Прежний уровень                              4978\n301                 Снизилась                              4986\n302                 Снизилась                              4530\n303           Прежний уровень                              4595\n304                 Снизилась                              4491\n\n[305 rows x 2 columns]",
      "text/html": "<div>\n<style scoped>\n    .dataframe tbody tr th:only-of-type {\n        vertical-align: middle;\n    }\n\n    .dataframe tbody tr th {\n        vertical-align: top;\n    }\n\n    .dataframe thead th {\n        text-align: right;\n    }\n</style>\n<table border=\"1\" class=\"dataframe\">\n  <thead>\n    <tr style=\"text-align: right;\">\n      <th></th>\n      <th>покупательская_активность</th>\n      <th>выручка_от_клиента_текущий_месяц</th>\n    </tr>\n  </thead>\n  <tbody>\n    <tr>\n      <th>0</th>\n      <td>Прежний уровень</td>\n      <td>4707</td>\n    </tr>\n    <tr>\n      <th>1</th>\n      <td>Снизилась</td>\n      <td>4751</td>\n    </tr>\n    <tr>\n      <th>2</th>\n      <td>Снизилась</td>\n      <td>4607</td>\n    </tr>\n    <tr>\n      <th>3</th>\n      <td>Прежний уровень</td>\n      <td>4182</td>\n    </tr>\n    <tr>\n      <th>4</th>\n      <td>Снизилась</td>\n      <td>4484</td>\n    </tr>\n    <tr>\n      <th>...</th>\n      <td>...</td>\n      <td>...</td>\n    </tr>\n    <tr>\n      <th>300</th>\n      <td>Прежний уровень</td>\n      <td>4978</td>\n    </tr>\n    <tr>\n      <th>301</th>\n      <td>Снизилась</td>\n      <td>4986</td>\n    </tr>\n    <tr>\n      <th>302</th>\n      <td>Снизилась</td>\n      <td>4530</td>\n    </tr>\n    <tr>\n      <th>303</th>\n      <td>Прежний уровень</td>\n      <td>4595</td>\n    </tr>\n    <tr>\n      <th>304</th>\n      <td>Снизилась</td>\n      <td>4491</td>\n    </tr>\n  </tbody>\n</table>\n<p>305 rows × 2 columns</p>\n</div>"
     },
     "execution_count": 32,
     "metadata": {},
     "output_type": "execute_result"
    }
   ],
   "source": [
    "df = pd.read_csv(\"6.csv\", encoding=\"cp1251\")\n",
    "\n",
    "for i in range(0, df.shape[0] - 1, 3):  # настройка для удобства\n",
    "    df.loc[i, \"Покупательская активность\"] = \"Прежний уровень\"\n",
    "    \n",
    "df.columns = df.columns.str.replace(\" \", \"_\")  # замена пробелов\n",
    "df.columns = df.columns.str.lower()  # нижний регистр\n",
    "df = df[[\"покупательская_активность\", \"выручка_от_клиента_текущий_месяц\"]]\n",
    "df"
   ],
   "metadata": {
    "collapsed": false,
    "ExecuteTime": {
     "end_time": "2024-03-03T10:51:43.746953Z",
     "start_time": "2024-03-03T10:51:43.729354Z"
    }
   },
   "id": "84dd5bc6683862c0",
   "execution_count": 32
  },
  {
   "cell_type": "code",
   "outputs": [
    {
     "data": {
      "text/plain": "<Figure size 900x300 with 2 Axes>",
      "image/png": "[encoded data removed]"
     },
     "metadata": {},
     "output_type": "display_data"
    }
   ],
   "source": [
    "val = \"Снизилась\"\n",
    "df = df[df[\"покупательская_активность\"] == val].reset_index(drop=True)\n",
    "# Создание объектов осей и подграфиков\n",
    "fig, (ax1, ax2) = plt.subplots(1, 2, figsize=(9, 3))\n",
    "\n",
    "# Гистограмма с оценкой плотности\n",
    "sns.histplot(data=df, bins=30, kde=True, legend=False, ax=ax1)\n",
    "ax1.set_ylabel(None)\n",
    "ax1.set_xlabel(None)\n",
    "\n",
    "# Ящик с усами\n",
    "sns.boxplot(data=df, y=\"выручка_от_клиента_текущий_месяц\", ax=ax2)\n",
    "ax2.set_ylabel(None)\n",
    "ax2.set_xlabel(0)\n",
    "\n",
    "# Общий заголовок\n",
    "plt.suptitle(\"Гистограмма и ящик с усами для количественных данных\")\n",
    "\n",
    "# Отображение графика\n",
    "plt.savefig(\"target_4_6.png\")\n"
   ],
   "metadata": {
    "collapsed": false,
    "ExecuteTime": {
     "end_time": "2024-03-03T10:51:44.218875Z",
     "start_time": "2024-03-03T10:51:43.748409Z"
    }
   },
   "id": "dc6f6cf86b28b953",
   "execution_count": 33
  },
  {
   "cell_type": "code",
   "outputs": [],
   "source": [
    "    "
   ],
   "metadata": {
    "collapsed": false,
    "ExecuteTime": {
     "end_time": "2024-03-03T10:51:44.221930Z",
     "start_time": "2024-03-03T10:51:44.219824Z"
    }
   },
   "id": "6ff3c9321427caa7",
   "execution_count": 33
  }
 ],
 "metadata": {
  "kernelspec": {
   "display_name": "Python 3",
   "language": "python",
   "name": "python3"
  },
  "language_info": {
   "codemirror_mode": {
    "name": "ipython",
    "version": 2
   },
   "file_extension": ".py",
   "mimetype": "text/x-python",
   "name": "python",
   "nbconvert_exporter": "python",
   "pygments_lexer": "ipython2",
   "version": "2.7.6"
  }
 },
 "nbformat": 4,
 "nbformat_minor": 5
}
