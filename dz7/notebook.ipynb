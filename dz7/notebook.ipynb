{
 "cells": [
  {
   "cell_type": "markdown",
   "source": [
    "# ДЗ 7 неделя"
   ],
   "metadata": {
    "collapsed": false
   },
   "id": "5703bd8fb56292e"
  },
  {
   "cell_type": "markdown",
   "source": [
    "## Импорт библиотек"
   ],
   "metadata": {
    "collapsed": false
   },
   "id": "f3b16e6abcaa09f4"
  },
  {
   "cell_type": "code",
   "execution_count": 163,
   "id": "initial_id",
   "metadata": {
    "collapsed": true,
    "ExecuteTime": {
     "end_time": "2024-03-24T16:28:18.899244Z",
     "start_time": "2024-03-24T16:28:18.896086Z"
    }
   },
   "outputs": [],
   "source": [
    "import pandas as pd\n",
    "import numpy as np\n",
    "from sklearn.model_selection import train_test_split\n",
    "from sklearn.linear_model import LinearRegression\n",
    "from sklearn.preprocessing import OneHotEncoder\n",
    "from sklearn.metrics import r2_score, mean_absolute_error, mean_absolute_percentage_error"
   ]
  },
  {
   "cell_type": "markdown",
   "source": [
    "##  Первая задача\n",
    "\n",
    "Вы работаете аналитиком в компании по продажи мороженного в парках. В компании участились случаи, когда на конец дня остаётся не распроданное мороженное, а в некоторые дни наоборот - не хватает мороженного для покупателей. Необходимо научиться предсказывать продажи завтрашнего дня. Для этого необходимо построить модель линейной регрессии продаж мороженного, исходя из факторов продаж [’температура’, ‘влажность’]\n",
    "\n",
    "При построении модели учесть:\n",
    "\n",
    "Использовать библиотеку sklearn\n",
    "Для разбиения на выборки использовать функцию train_test_split и параметр random_state = 42. Размер тестовой выборки 15%\n",
    "Вывести значения прогнозной модели для тестовой выборки, округлённых до целого.\n",
    "Исходные данные\n",
    "\n",
    "Данные находятся в файле data.csv.\n",
    "Разделитель значений - точка с запятой. Разделителем дробных чисел применяется запятая. В таблице даны три столбца. Названия столбцов - показаны ниже.\n",
    "\n",
    "Дана таблица с тремя столбцами:\n",
    "- продажи - продажи мороженного в штуках\n",
    "- температура - температура воздуха на улице в градусах Цельсия\n",
    "- влажность - влажность воздуха в процентах\n",
    "\n",
    "Названия столбцов преобразовывать нет необходимости."
   ],
   "metadata": {
    "collapsed": false
   },
   "id": "40c5b199c3f1548c"
  },
  {
   "cell_type": "code",
   "outputs": [
    {
     "name": "stdout",
     "output_type": "stream",
     "text": [
      "[113. 134. 105. 137.]\n"
     ]
    }
   ],
   "source": [
    "df = pd.read_csv(\"tg_1_.csv\", encoding=\"cp1251\", sep=\";\")\n",
    "x_train, x_test, y_train, _ = train_test_split(df[[\"температура\", \"влажность\"]], \n",
    "                                                    df[\"продажи\"], test_size=0.15, random_state=42)\n",
    "model = LinearRegression()\n",
    "model.fit(x_train, y_train)\n",
    "result = np.round(model.predict(x_test))\n",
    "print(result)"
   ],
   "metadata": {
    "collapsed": false,
    "ExecuteTime": {
     "end_time": "2024-03-24T16:28:18.943561Z",
     "start_time": "2024-03-24T16:28:18.930523Z"
    }
   },
   "id": "bf7da034bde1d165",
   "execution_count": 164
  },
  {
   "cell_type": "markdown",
   "source": [
    "## Вторая задача\n",
    "\n",
    "Вы всё также работаете аналитиком в компании по продажи мороженного в парках. И проблема всё таже - в компании участились случаи, когда на конец дня остаётся не распроданное мороженное, а в некоторые дни наоборот - не хватает мороженного для покупателей. Необходимо научиться предсказывать продажи завтрашнего дня. Для этого вы будете использовать модель линейной регрессии продаж мороженного. Но набор факторов теперь будет иным [’температура’, ‘дождь’]. Особенность данных в том, что фактор ‘дождь’ - бинарная величина: т.е. был или не был дождь в день продаж.\n",
    "\n",
    "При построении модели учесть:\n",
    "\n",
    "отобрать нужные факторы\n",
    "использовать библиотеку sklearn\n",
    "для разбиения на выборки использовать функцию train_test_split и параметр random_state = 42. Размер тестовой выборки равен 15%\n",
    "необходимо провести категоризацию фактора ‘дождь’ методом OneHotEncoder\n",
    "вывести значения прогнозной модели для тестовой выборки, округлённой до целого.\n",
    "Исходные данные\n",
    "\n",
    "Данные находятся в файле data.csv.\n",
    "Разделитель значений - точка с запятой. Разделителем дробных чисел применяется запятая. В таблице даны три столбца. Названия столбцов - показаны ниже.\n",
    "\n",
    "Дана таблица с тремя столбцами:\n",
    "- продажи - продажи мороженного в штуках\n",
    "- температура - температура воздуха на улице в градусах Цельсия\n",
    "- дождь - был или не был дождь\n"
   ],
   "metadata": {
    "collapsed": false
   },
   "id": "f67196a584c9a71c"
  },
  {
   "cell_type": "markdown",
   "source": [
    "### Функция\n",
    "\n",
    "Преобразует категориальные столбы dataframe в количественные"
   ],
   "metadata": {
    "collapsed": false
   },
   "id": "ec844aa8af24cd84"
  },
  {
   "cell_type": "code",
   "outputs": [],
   "source": [
    "def get_ohe(data, categories):\n",
    "    ohe = OneHotEncoder(sparse_output=False, drop='first', handle_unknown='ignore')\n",
    "    ohe.fit(data[categories])\n",
    "    \n",
    "    temp_df = pd.DataFrame(data=ohe.transform(data[categories]), columns=ohe.get_feature_names_out())\n",
    "    data = pd.concat([data.reset_index(drop=True), temp_df], axis=1)\n",
    "    data = data.drop(columns=categories, axis=1)\n",
    "    return data"
   ],
   "metadata": {
    "collapsed": false,
    "ExecuteTime": {
     "end_time": "2024-03-24T16:28:18.948680Z",
     "start_time": "2024-03-24T16:28:18.945173Z"
    }
   },
   "id": "ac37d16976f84931",
   "execution_count": 165
  },
  {
   "cell_type": "code",
   "outputs": [
    {
     "name": "stdout",
     "output_type": "stream",
     "text": [
      "[101. 101. 104.]\n"
     ]
    }
   ],
   "source": [
    "df = get_ohe(pd.read_csv(\"tg_2_.csv\", encoding=\"cp1251\", sep=\";\"), [\"дождь\"])\n",
    "\n",
    "x_train, x_test, y_train, _ = train_test_split(df[[\"температура\", \"дождь_нет\"]], \n",
    "                                               df[\"продажи\"], test_size=0.15, random_state=42)\n",
    "model = LinearRegression()\n",
    "model.fit(x_train, y_train)\n",
    "result = np.round(model.predict(x_test))\n",
    "print(result)"
   ],
   "metadata": {
    "collapsed": false,
    "ExecuteTime": {
     "end_time": "2024-03-24T16:28:18.963259Z",
     "start_time": "2024-03-24T16:28:18.950342Z"
    }
   },
   "id": "2de719158b8d6e1e",
   "execution_count": 166
  },
  {
   "cell_type": "markdown",
   "source": [
    "## Третья задача\n",
    "\n",
    "Интернет-сервис по продаже машин внедряет модель предсказания цены автомобиля на основе данных по самой машине. Необходимо построить модель линейной регрессии и рассчитать метрики качества модели.\n",
    "\n",
    "При построении модели учесть:\n",
    "\n",
    "- отобрать нужные факторы\n",
    "- использовать библиотеку sklearn\n",
    "- для разбиения на выборки использовать функцию train_test_split и параметр random_state = 42. Размер тестовой выборки равен 15%\n",
    "- необходимо провести категоризацию фактора кузов методом OneHotEncoder\n",
    "- вывести значения метрики R2 и МАЕ, округлённые до второго знака\n",
    "\n",
    "Исходные данные\n",
    "\n",
    "Данные находятся в файле data.csv.\n",
    "Разделитель значений - точка с запятой. Разделителем дробных чисел применяется запятая. В таблице даны четыре столбца. Названия столбцов - показаны ниже.\n",
    "\n",
    "Дана таблица:\n",
    "- цена - цена автомобиля в тыс.рублей\n",
    "- возраст - возраст машины в годах\n",
    "- мощность - мощность двигателя автомобиля\n",
    "- кузов - тип кузова автомобиля (бинарная величина седан/не седан)\n",
    "Названия столбцов преобразовывать нет необходимости."
   ],
   "metadata": {
    "collapsed": false
   },
   "id": "debd42f57538488e"
  },
  {
   "cell_type": "code",
   "outputs": [
    {
     "name": "stdout",
     "output_type": "stream",
     "text": [
      "0.49 2418.39\n"
     ]
    }
   ],
   "source": [
    "df = get_ohe(pd.read_csv(\"tg_7_3.csv\", encoding=\"cp1251\", sep=\";\").drop(\"цена;возраст;мощность;кузов\", axis=1), [\"кузов\"])\n",
    "x_train, x_test, y_train, y_test = train_test_split(df[[\"возраст\", \"мощность\", \"кузов_седан\"]], \n",
    "                                                    df[\"цена\"], test_size=0.15, random_state=42)\n",
    "model = LinearRegression()\n",
    "model.fit(x_train, y_train)\n",
    "prediction = model.predict(x_test)\n",
    "print(\n",
    "    round(r2_score(y_test, prediction), 2), \n",
    "    round(mean_absolute_error(y_test, prediction), 2)\n",
    ")"
   ],
   "metadata": {
    "collapsed": false,
    "ExecuteTime": {
     "end_time": "2024-03-24T16:28:18.991934Z",
     "start_time": "2024-03-24T16:28:18.971940Z"
    }
   },
   "id": "86e3457345261f0d",
   "execution_count": 167
  },
  {
   "cell_type": "markdown",
   "source": [
    "## Четвертая задача\n",
    "\n",
    "Фермерское хозяйство планирует купить дополнительных коров к себе на ферму. Руководитель активно использует аналитические технологии для принятия решений. И для покупки коров он тоже хочет подойти по-современному. А именно - найти зависимость между факторами кормления, самого молока и типа коровы с уровнем удоя. Т.е построить прогнозную модель для удоя молока, исходя из разных факторов. И использовать эту модель для покупки новых коров - покупать только тех, кто будет производить наибольшее количество молока.\n",
    "\n",
    "На этапе исследования данных выяснилось:\n",
    "\n",
    "Есть пропуски в факторе ‘протеин’\n",
    "Есть выброс в большую сторону у целевой “удой”\n",
    "Есть выброс в большую сторону у фактора “жирность”\n",
    "Есть нелинейная связь фактора “спо” и целевой “удой”\n",
    "В названиях пород есть ошибки:\n",
    "Вместо РефлешнСоверинг написано РефлешнСоверинггггг\n",
    "Необходимо построить линейную регрессионную модель прогноза удоя молока. В ответе вывести значения метрик модели R2 и MAPE в процентах.\n",
    "\n",
    "При предобработке отобрать нужные факторы и учесть последовательность предобработки данных:\n",
    "- пропуски удалить\n",
    "- вместо обнаруженных выбросов подставить медиану значений фактора, исходя из породы коровы. Для расчёта уровня выброса использовать метод тройного интерквартильного размаха.\n",
    "- исправить ошибки в названии категории пород\n",
    "- создать новый категориальный бинарный фактор спо_кат. Если спо ≤ 0.9 - одна категория, если спо > 0.9 - другая категория.\n",
    "\n",
    "При построении модели учесть:\n",
    "\n",
    "использовать библиотеку sklearn\n",
    "для разбиения на выборки использовать функцию train_test_split и параметр random_state = 42. Размер выборки равен 15%\n",
    "необходимо провести категоризацию категориальных факторов методом OneHotEncoder\n",
    "Исходные данные\n",
    "\n",
    "Данные находятся в файле data.csv.\n",
    "Разделитель значений - точка с запятой. Разделителем дробных чисел применяется запятая. В таблице даны семь столбцов. Названия столбцов - показаны ниже.\n",
    "\n",
    "Дано:\n",
    "\n",
    "- id номер коровы в базе\n",
    "- удой годичный удой молока у коровы в кг\n",
    "- протеин показывает средний уровень протеина в корме.\n",
    "- спо сахаро-протеиновое отношение. Число, показывает качество кормления\n",
    "- эке энергетическая кормовая единица. Число, показывает качество кормления\n",
    "- порода порода коровы. В базе две породы коров: Вис Бик Айдиал, РефлешнСоверинг\n",
    "- жирность,% жирность молока в процентах"
   ],
   "metadata": {
    "collapsed": false
   },
   "id": "8c2a3b42de18cf1f"
  },
  {
   "cell_type": "markdown",
   "source": [
    "### Функции"
   ],
   "metadata": {
    "collapsed": false
   },
   "id": "cea6ba3b4871d64f"
  },
  {
   "cell_type": "code",
   "outputs": [],
   "source": [
    "def get_quantile(data: pd.Series):\n",
    "    # Вычисляем первый и третий квартили\n",
    "    quantile_1 = data.quantile(0.25)\n",
    "    quantile_3 = data.quantile(0.75)\n",
    "    # Вычисляем интерквартильный размах (IQR)\n",
    "    IQR = quantile_3 - quantile_1\n",
    "    # Определяем границы выбросов\n",
    "    lower_bound = quantile_1 - 1.5 * IQR\n",
    "    upper_bound = quantile_3 + 1.5 * IQR\n",
    "    return lower_bound, upper_bound\n",
    "\n",
    "\n",
    "def insert_median(data: pd.DataFrame, columns: list):\n",
    "    for factor in columns:\n",
    "        lower, upper = get_quantile(data[factor])\n",
    "        medians = data.groupby(\"порода\")[factor].median()\n",
    "        outliers = (data[factor] > upper) | (data[factor] < lower)\n",
    "        for breed in data['порода'].unique():\n",
    "            data.loc[(data['порода'] == breed) & outliers, factor] = medians[breed]\n",
    "    return data"
   ],
   "metadata": {
    "collapsed": false,
    "ExecuteTime": {
     "end_time": "2024-03-24T16:28:18.998486Z",
     "start_time": "2024-03-24T16:28:18.993470Z"
    }
   },
   "id": "688df7bf23425af6",
   "execution_count": 168
  },
  {
   "cell_type": "markdown",
   "source": [
    "### Предобработка"
   ],
   "metadata": {
    "collapsed": false
   },
   "id": "16ebecae1c0630bf"
  },
  {
   "cell_type": "code",
   "outputs": [
    {
     "name": "stderr",
     "output_type": "stream",
     "text": [
      "/tmp/ipykernel_115181/48698574.py:19: FutureWarning: Setting an item of incompatible dtype is deprecated and will raise an error in a future version of pandas. Value '6101.5' has dtype incompatible with int64, please explicitly cast to a compatible dtype first.\n",
      "  data.loc[(data['порода'] == breed) & outliers, factor] = medians[breed]\n"
     ]
    },
    {
     "data": {
      "text/plain": "   id    удой   эке  протеин   спо  Жирность,%  спо_кат  \\\n0   1  5863.0  14.2   1743.0  0.89        3.58        0   \n1   2  5529.0  12.8   2138.0  0.94        3.54        1   \n2   3  5810.0  14.0   1854.0  0.93        3.70        1   \n3   4  5895.0  12.4   2012.0  0.89        3.40        0   \n4   6  5254.0  12.7   1806.0  0.89        3.70        0   \n\n   порода_РефлешнСоверинг  \n0                     0.0  \n1                     0.0  \n2                     1.0  \n3                     1.0  \n4                     1.0  ",
      "text/html": "<div>\n<style scoped>\n    .dataframe tbody tr th:only-of-type {\n        vertical-align: middle;\n    }\n\n    .dataframe tbody tr th {\n        vertical-align: top;\n    }\n\n    .dataframe thead th {\n        text-align: right;\n    }\n</style>\n<table border=\"1\" class=\"dataframe\">\n  <thead>\n    <tr style=\"text-align: right;\">\n      <th></th>\n      <th>id</th>\n      <th>удой</th>\n      <th>эке</th>\n      <th>протеин</th>\n      <th>спо</th>\n      <th>Жирность,%</th>\n      <th>спо_кат</th>\n      <th>порода_РефлешнСоверинг</th>\n    </tr>\n  </thead>\n  <tbody>\n    <tr>\n      <th>0</th>\n      <td>1</td>\n      <td>5863.0</td>\n      <td>14.2</td>\n      <td>1743.0</td>\n      <td>0.89</td>\n      <td>3.58</td>\n      <td>0</td>\n      <td>0.0</td>\n    </tr>\n    <tr>\n      <th>1</th>\n      <td>2</td>\n      <td>5529.0</td>\n      <td>12.8</td>\n      <td>2138.0</td>\n      <td>0.94</td>\n      <td>3.54</td>\n      <td>1</td>\n      <td>0.0</td>\n    </tr>\n    <tr>\n      <th>2</th>\n      <td>3</td>\n      <td>5810.0</td>\n      <td>14.0</td>\n      <td>1854.0</td>\n      <td>0.93</td>\n      <td>3.70</td>\n      <td>1</td>\n      <td>1.0</td>\n    </tr>\n    <tr>\n      <th>3</th>\n      <td>4</td>\n      <td>5895.0</td>\n      <td>12.4</td>\n      <td>2012.0</td>\n      <td>0.89</td>\n      <td>3.40</td>\n      <td>0</td>\n      <td>1.0</td>\n    </tr>\n    <tr>\n      <th>4</th>\n      <td>6</td>\n      <td>5254.0</td>\n      <td>12.7</td>\n      <td>1806.0</td>\n      <td>0.89</td>\n      <td>3.70</td>\n      <td>0</td>\n      <td>1.0</td>\n    </tr>\n  </tbody>\n</table>\n</div>"
     },
     "execution_count": 169,
     "metadata": {},
     "output_type": "execute_result"
    }
   ],
   "source": [
    "df = pd.read_csv(\"tg_7_4.csv\", encoding=\"cp1251\", sep=\";\", decimal=',')\n",
    "df = insert_median(df, [\"удой\", \"Жирность,%\"]).dropna(ignore_index=True)\n",
    "df[\"порода\"] = df[\"порода\"].str.replace(\"РефлешнСоверинггггг\", \"РефлешнСоверинг\")\n",
    "df[\"спо_кат\"] = (df[\"спо\"] > 0.9).astype(int)\n",
    "df = get_ohe(df, [\"порода\"])\n",
    "df.head(5)"
   ],
   "metadata": {
    "collapsed": false,
    "ExecuteTime": {
     "end_time": "2024-03-24T16:28:19.026512Z",
     "start_time": "2024-03-24T16:28:19.000038Z"
    }
   },
   "id": "29d52a83d875bb8c",
   "execution_count": 169
  },
  {
   "cell_type": "markdown",
   "source": [
    "### Решение"
   ],
   "metadata": {
    "collapsed": false
   },
   "id": "c8a1746840e2041d"
  },
  {
   "cell_type": "code",
   "outputs": [
    {
     "name": "stdout",
     "output_type": "stream",
     "text": [
      "0.64 3.85\n"
     ]
    }
   ],
   "source": [
    "x_train, x_test, y_train, y_test = train_test_split(df.drop([\"id\", \"удой\", \"Жирность,%\", \"спо\"], axis=1), \n",
    "                                                    df[\"удой\"], test_size=0.15, random_state=42)\n",
    "model = LinearRegression()\n",
    "model.fit(x_train, y_train)\n",
    "prediction = model.predict(x_test)\n",
    "print(\n",
    "    r2_score(y_test, prediction).round(2), \n",
    "    (mean_absolute_percentage_error(y_test, prediction) * 100).round(2)\n",
    ")"
   ],
   "metadata": {
    "collapsed": false,
    "ExecuteTime": {
     "end_time": "2024-03-24T16:28:19.043595Z",
     "start_time": "2024-03-24T16:28:19.033547Z"
    }
   },
   "id": "984705ceefce604",
   "execution_count": 170
  },
  {
   "cell_type": "code",
   "outputs": [],
   "source": [],
   "metadata": {
    "collapsed": false,
    "ExecuteTime": {
     "end_time": "2024-03-24T16:28:19.048207Z",
     "start_time": "2024-03-24T16:28:19.045822Z"
    }
   },
   "id": "1e046b35036b1847",
   "execution_count": 170
  }
 ],
 "metadata": {
  "kernelspec": {
   "display_name": "Python 3",
   "language": "python",
   "name": "python3"
  },
  "language_info": {
   "codemirror_mode": {
    "name": "ipython",
    "version": 2
   },
   "file_extension": ".py",
   "mimetype": "text/x-python",
   "name": "python",
   "nbconvert_exporter": "python",
   "pygments_lexer": "ipython2",
   "version": "2.7.6"
  }
 },
 "nbformat": 4,
 "nbformat_minor": 5
}
