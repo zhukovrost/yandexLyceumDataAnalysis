{
 "cells": [
  {
   "cell_type": "markdown",
   "source": [
    "# ДЗ 3 неделя"
   ],
   "metadata": {
    "collapsed": false
   },
   "id": "fe7d948f947b7143"
  },
  {
   "cell_type": "markdown",
   "source": [
    "## Подключение библиотек"
   ],
   "metadata": {
    "collapsed": false
   },
   "id": "1c87b6e49909ae61"
  },
  {
   "cell_type": "code",
   "outputs": [],
   "source": [
    "import pandas as pd\n",
    "import matplotlib.pyplot as plt\n",
    "import seaborn as sns\n",
    "import scipy.stats as st"
   ],
   "metadata": {
    "collapsed": false,
    "ExecuteTime": {
     "end_time": "2024-02-25T08:51:37.477314169Z",
     "start_time": "2024-02-25T08:51:37.431266675Z"
    }
   },
   "id": "c923ce7154d983ae",
   "execution_count": 28
  },
  {
   "cell_type": "markdown",
   "source": [
    "## Загрузка файлов"
   ],
   "metadata": {
    "collapsed": false
   },
   "id": "7f4f5a9ba6fe3e7"
  },
  {
   "cell_type": "code",
   "execution_count": 29,
   "id": "initial_id",
   "metadata": {
    "collapsed": true,
    "ExecuteTime": {
     "end_time": "2024-02-25T08:51:37.533949591Z",
     "start_time": "2024-02-25T08:51:37.483380971Z"
    }
   },
   "outputs": [],
   "source": [
    "df1 = pd.read_csv(\"data.csv\", encoding=\"cp1251\", skipinitialspace=True)\n",
    "df2 = pd.read_csv(\"data2.csv\", encoding=\"cp1251\")"
   ]
  },
  {
   "cell_type": "markdown",
   "source": [
    "## Первое задание\n",
    "\n",
    "1) Перевести название колонок в стандарт PEP8:\n",
    "\n",
    "    - перевести в нижний регистр\n",
    "    - пробелы между словами заменить на _\n",
    "    - язык сохранить - кириллица\n",
    "\n",
    "2) Сформировать новый датасет из отсортированного в алфавитном порядке списка из трёх факторов в количественной шкале: ингредиент_2, ингредиент_1, вес\n",
    "3) Рассчитать матрицу корреляций для количественных данных. Использовать метод корреляций для случая нормального распределения данных.\n",
    "\n",
    "### Привод колонок к формату PEP8"
   ],
   "metadata": {
    "collapsed": false
   },
   "id": "200dd325bd7fca21"
  },
  {
   "cell_type": "code",
   "outputs": [
    {
     "data": {
      "text/plain": "     вес  оператор_линии  ингредиент_1  номер_смены  номер_конвейера  \\\n0   61.7               2         250.9            2                1   \n1   58.6               2         275.7            1                2   \n2   61.6               1         266.4            1                1   \n3   61.2               1         282.4            1                1   \n4   68.9               1         270.5            2                2   \n5   66.7               1         265.8            1                1   \n6   73.5               2         251.1            2                1   \n7   70.6               1         245.1            2                2   \n8   66.9               1         245.5            3                1   \n9   69.7               1         258.1            3                2   \n10  77.5               1         280.5            2                2   \n11  66.9               1         265.7            2                1   \n12  66.1               1         255.2            3                2   \n13  66.7               1         256.6            3                2   \n14  72.4               1         254.7            2                2   \n15  66.7               1         257.5            1                1   \n16  65.8               1         277.3            3                1   \n17  71.9               2         269.9            2                1   \n18  66.3               1         252.4            3                1   \n19  68.8               2         243.6            2                2   \n20  78.3               1         243.9            2                1   \n21  77.1               2         258.1            2                2   \n22  65.1               2         249.8            2                1   \n23  64.5               2         266.5            2                1   \n24  61.6               1         244.3            3                1   \n25  64.3               2         247.7            2                1   \n26  64.1               2         242.7            3                2   \n27  54.7               2         257.9            2                1   \n28  62.4               1         264.0            3                1   \n29  62.8               2         266.5            2                1   \n30  65.1               2         257.9            1                2   \n31  63.9               1         238.7            2                1   \n32  70.2               1         266.0            1                1   \n33  58.3               2         235.6            3                1   \n34  61.8               1         267.7            3                2   \n35  58.0               1         269.8            1                2   \n36  58.7               2         258.3            2                1   \n37  60.5               2         260.7            2                1   \n38  66.4               1         255.6            3                1   \n39  67.8               1         269.7            2                1   \n40  65.8               1         277.3            3                1   \n41  71.9               2         269.9            2                1   \n42  66.3               1         252.1            3                1   \n\n    ингредиент_2   брак  \n0            6.3  Годен  \n1            6.7   Брак  \n2           16.7   Брак  \n3           16.8   Брак  \n4           16.9   Брак  \n5           17.1   Брак  \n6           17.2  Годен  \n7           17.2   Брак  \n8           17.6  Годен  \n9           18.3   Брак  \n10          18.6   Брак  \n11          18.7   Брак  \n12          19.0   Брак  \n13          19.1   Брак  \n14          19.1   Брак  \n15          20.0  Годен  \n16          20.1   Брак  \n17          20.2  Годен  \n18          20.9  Годен  \n19          21.3  Годен  \n20          21.8  Годен  \n21          22.3   Брак  \n22           9.8  Годен  \n23          10.0  Годен  \n24          10.2  Годен  \n25          10.3  Годен  \n26          10.4  Годен  \n27          10.5  Годен  \n28          10.5   Брак  \n29          10.5  Годен  \n30          11.6  Годен  \n31          11.9  Годен  \n32          12.0  Годен  \n33          12.1  Годен  \n34          12.2   Брак  \n35          12.2   Брак  \n36          12.6  Годен  \n37          12.6  Годен  \n38          12.7   Брак  \n39          13.1  Годен  \n40          20.1   Брак  \n41          20.2  Годен  \n42          20.9  Годен  ",
      "text/html": "<div>\n<style scoped>\n    .dataframe tbody tr th:only-of-type {\n        vertical-align: middle;\n    }\n\n    .dataframe tbody tr th {\n        vertical-align: top;\n    }\n\n    .dataframe thead th {\n        text-align: right;\n    }\n</style>\n<table border=\"1\" class=\"dataframe\">\n  <thead>\n    <tr style=\"text-align: right;\">\n      <th></th>\n      <th>вес</th>\n      <th>оператор_линии</th>\n      <th>ингредиент_1</th>\n      <th>номер_смены</th>\n      <th>номер_конвейера</th>\n      <th>ингредиент_2</th>\n      <th>брак</th>\n    </tr>\n  </thead>\n  <tbody>\n    <tr>\n      <th>0</th>\n      <td>61.7</td>\n      <td>2</td>\n      <td>250.9</td>\n      <td>2</td>\n      <td>1</td>\n      <td>6.3</td>\n      <td>Годен</td>\n    </tr>\n    <tr>\n      <th>1</th>\n      <td>58.6</td>\n      <td>2</td>\n      <td>275.7</td>\n      <td>1</td>\n      <td>2</td>\n      <td>6.7</td>\n      <td>Брак</td>\n    </tr>\n    <tr>\n      <th>2</th>\n      <td>61.6</td>\n      <td>1</td>\n      <td>266.4</td>\n      <td>1</td>\n      <td>1</td>\n      <td>16.7</td>\n      <td>Брак</td>\n    </tr>\n    <tr>\n      <th>3</th>\n      <td>61.2</td>\n      <td>1</td>\n      <td>282.4</td>\n      <td>1</td>\n      <td>1</td>\n      <td>16.8</td>\n      <td>Брак</td>\n    </tr>\n    <tr>\n      <th>4</th>\n      <td>68.9</td>\n      <td>1</td>\n      <td>270.5</td>\n      <td>2</td>\n      <td>2</td>\n      <td>16.9</td>\n      <td>Брак</td>\n    </tr>\n    <tr>\n      <th>5</th>\n      <td>66.7</td>\n      <td>1</td>\n      <td>265.8</td>\n      <td>1</td>\n      <td>1</td>\n      <td>17.1</td>\n      <td>Брак</td>\n    </tr>\n    <tr>\n      <th>6</th>\n      <td>73.5</td>\n      <td>2</td>\n      <td>251.1</td>\n      <td>2</td>\n      <td>1</td>\n      <td>17.2</td>\n      <td>Годен</td>\n    </tr>\n    <tr>\n      <th>7</th>\n      <td>70.6</td>\n      <td>1</td>\n      <td>245.1</td>\n      <td>2</td>\n      <td>2</td>\n      <td>17.2</td>\n      <td>Брак</td>\n    </tr>\n    <tr>\n      <th>8</th>\n      <td>66.9</td>\n      <td>1</td>\n      <td>245.5</td>\n      <td>3</td>\n      <td>1</td>\n      <td>17.6</td>\n      <td>Годен</td>\n    </tr>\n    <tr>\n      <th>9</th>\n      <td>69.7</td>\n      <td>1</td>\n      <td>258.1</td>\n      <td>3</td>\n      <td>2</td>\n      <td>18.3</td>\n      <td>Брак</td>\n    </tr>\n    <tr>\n      <th>10</th>\n      <td>77.5</td>\n      <td>1</td>\n      <td>280.5</td>\n      <td>2</td>\n      <td>2</td>\n      <td>18.6</td>\n      <td>Брак</td>\n    </tr>\n    <tr>\n      <th>11</th>\n      <td>66.9</td>\n      <td>1</td>\n      <td>265.7</td>\n      <td>2</td>\n      <td>1</td>\n      <td>18.7</td>\n      <td>Брак</td>\n    </tr>\n    <tr>\n      <th>12</th>\n      <td>66.1</td>\n      <td>1</td>\n      <td>255.2</td>\n      <td>3</td>\n      <td>2</td>\n      <td>19.0</td>\n      <td>Брак</td>\n    </tr>\n    <tr>\n      <th>13</th>\n      <td>66.7</td>\n      <td>1</td>\n      <td>256.6</td>\n      <td>3</td>\n      <td>2</td>\n      <td>19.1</td>\n      <td>Брак</td>\n    </tr>\n    <tr>\n      <th>14</th>\n      <td>72.4</td>\n      <td>1</td>\n      <td>254.7</td>\n      <td>2</td>\n      <td>2</td>\n      <td>19.1</td>\n      <td>Брак</td>\n    </tr>\n    <tr>\n      <th>15</th>\n      <td>66.7</td>\n      <td>1</td>\n      <td>257.5</td>\n      <td>1</td>\n      <td>1</td>\n      <td>20.0</td>\n      <td>Годен</td>\n    </tr>\n    <tr>\n      <th>16</th>\n      <td>65.8</td>\n      <td>1</td>\n      <td>277.3</td>\n      <td>3</td>\n      <td>1</td>\n      <td>20.1</td>\n      <td>Брак</td>\n    </tr>\n    <tr>\n      <th>17</th>\n      <td>71.9</td>\n      <td>2</td>\n      <td>269.9</td>\n      <td>2</td>\n      <td>1</td>\n      <td>20.2</td>\n      <td>Годен</td>\n    </tr>\n    <tr>\n      <th>18</th>\n      <td>66.3</td>\n      <td>1</td>\n      <td>252.4</td>\n      <td>3</td>\n      <td>1</td>\n      <td>20.9</td>\n      <td>Годен</td>\n    </tr>\n    <tr>\n      <th>19</th>\n      <td>68.8</td>\n      <td>2</td>\n      <td>243.6</td>\n      <td>2</td>\n      <td>2</td>\n      <td>21.3</td>\n      <td>Годен</td>\n    </tr>\n    <tr>\n      <th>20</th>\n      <td>78.3</td>\n      <td>1</td>\n      <td>243.9</td>\n      <td>2</td>\n      <td>1</td>\n      <td>21.8</td>\n      <td>Годен</td>\n    </tr>\n    <tr>\n      <th>21</th>\n      <td>77.1</td>\n      <td>2</td>\n      <td>258.1</td>\n      <td>2</td>\n      <td>2</td>\n      <td>22.3</td>\n      <td>Брак</td>\n    </tr>\n    <tr>\n      <th>22</th>\n      <td>65.1</td>\n      <td>2</td>\n      <td>249.8</td>\n      <td>2</td>\n      <td>1</td>\n      <td>9.8</td>\n      <td>Годен</td>\n    </tr>\n    <tr>\n      <th>23</th>\n      <td>64.5</td>\n      <td>2</td>\n      <td>266.5</td>\n      <td>2</td>\n      <td>1</td>\n      <td>10.0</td>\n      <td>Годен</td>\n    </tr>\n    <tr>\n      <th>24</th>\n      <td>61.6</td>\n      <td>1</td>\n      <td>244.3</td>\n      <td>3</td>\n      <td>1</td>\n      <td>10.2</td>\n      <td>Годен</td>\n    </tr>\n    <tr>\n      <th>25</th>\n      <td>64.3</td>\n      <td>2</td>\n      <td>247.7</td>\n      <td>2</td>\n      <td>1</td>\n      <td>10.3</td>\n      <td>Годен</td>\n    </tr>\n    <tr>\n      <th>26</th>\n      <td>64.1</td>\n      <td>2</td>\n      <td>242.7</td>\n      <td>3</td>\n      <td>2</td>\n      <td>10.4</td>\n      <td>Годен</td>\n    </tr>\n    <tr>\n      <th>27</th>\n      <td>54.7</td>\n      <td>2</td>\n      <td>257.9</td>\n      <td>2</td>\n      <td>1</td>\n      <td>10.5</td>\n      <td>Годен</td>\n    </tr>\n    <tr>\n      <th>28</th>\n      <td>62.4</td>\n      <td>1</td>\n      <td>264.0</td>\n      <td>3</td>\n      <td>1</td>\n      <td>10.5</td>\n      <td>Брак</td>\n    </tr>\n    <tr>\n      <th>29</th>\n      <td>62.8</td>\n      <td>2</td>\n      <td>266.5</td>\n      <td>2</td>\n      <td>1</td>\n      <td>10.5</td>\n      <td>Годен</td>\n    </tr>\n    <tr>\n      <th>30</th>\n      <td>65.1</td>\n      <td>2</td>\n      <td>257.9</td>\n      <td>1</td>\n      <td>2</td>\n      <td>11.6</td>\n      <td>Годен</td>\n    </tr>\n    <tr>\n      <th>31</th>\n      <td>63.9</td>\n      <td>1</td>\n      <td>238.7</td>\n      <td>2</td>\n      <td>1</td>\n      <td>11.9</td>\n      <td>Годен</td>\n    </tr>\n    <tr>\n      <th>32</th>\n      <td>70.2</td>\n      <td>1</td>\n      <td>266.0</td>\n      <td>1</td>\n      <td>1</td>\n      <td>12.0</td>\n      <td>Годен</td>\n    </tr>\n    <tr>\n      <th>33</th>\n      <td>58.3</td>\n      <td>2</td>\n      <td>235.6</td>\n      <td>3</td>\n      <td>1</td>\n      <td>12.1</td>\n      <td>Годен</td>\n    </tr>\n    <tr>\n      <th>34</th>\n      <td>61.8</td>\n      <td>1</td>\n      <td>267.7</td>\n      <td>3</td>\n      <td>2</td>\n      <td>12.2</td>\n      <td>Брак</td>\n    </tr>\n    <tr>\n      <th>35</th>\n      <td>58.0</td>\n      <td>1</td>\n      <td>269.8</td>\n      <td>1</td>\n      <td>2</td>\n      <td>12.2</td>\n      <td>Брак</td>\n    </tr>\n    <tr>\n      <th>36</th>\n      <td>58.7</td>\n      <td>2</td>\n      <td>258.3</td>\n      <td>2</td>\n      <td>1</td>\n      <td>12.6</td>\n      <td>Годен</td>\n    </tr>\n    <tr>\n      <th>37</th>\n      <td>60.5</td>\n      <td>2</td>\n      <td>260.7</td>\n      <td>2</td>\n      <td>1</td>\n      <td>12.6</td>\n      <td>Годен</td>\n    </tr>\n    <tr>\n      <th>38</th>\n      <td>66.4</td>\n      <td>1</td>\n      <td>255.6</td>\n      <td>3</td>\n      <td>1</td>\n      <td>12.7</td>\n      <td>Брак</td>\n    </tr>\n    <tr>\n      <th>39</th>\n      <td>67.8</td>\n      <td>1</td>\n      <td>269.7</td>\n      <td>2</td>\n      <td>1</td>\n      <td>13.1</td>\n      <td>Годен</td>\n    </tr>\n    <tr>\n      <th>40</th>\n      <td>65.8</td>\n      <td>1</td>\n      <td>277.3</td>\n      <td>3</td>\n      <td>1</td>\n      <td>20.1</td>\n      <td>Брак</td>\n    </tr>\n    <tr>\n      <th>41</th>\n      <td>71.9</td>\n      <td>2</td>\n      <td>269.9</td>\n      <td>2</td>\n      <td>1</td>\n      <td>20.2</td>\n      <td>Годен</td>\n    </tr>\n    <tr>\n      <th>42</th>\n      <td>66.3</td>\n      <td>1</td>\n      <td>252.1</td>\n      <td>3</td>\n      <td>1</td>\n      <td>20.9</td>\n      <td>Годен</td>\n    </tr>\n  </tbody>\n</table>\n</div>"
     },
     "execution_count": 30,
     "metadata": {},
     "output_type": "execute_result"
    }
   ],
   "source": [
    "df1.columns = df1.columns.str.replace(\" \", \"_\")  # замена пробелов\n",
    "df1.columns = df1.columns.str.lower()  # нижний регистр\n",
    "df1.dropna()\n",
    "df1"
   ],
   "metadata": {
    "collapsed": false,
    "ExecuteTime": {
     "end_time": "2024-02-25T08:51:37.551383116Z",
     "start_time": "2024-02-25T08:51:37.534611802Z"
    }
   },
   "id": "3dfc60362007af32",
   "execution_count": 30
  },
  {
   "cell_type": "code",
   "outputs": [
    {
     "data": {
      "text/plain": "                   вес  ингредиент_1  ингредиент_2\nвес           1.000000     -0.002662      0.664944\nингредиент_1 -0.002662      1.000000      0.091276\nингредиент_2  0.664944      0.091276      1.000000",
      "text/html": "<div>\n<style scoped>\n    .dataframe tbody tr th:only-of-type {\n        vertical-align: middle;\n    }\n\n    .dataframe tbody tr th {\n        vertical-align: top;\n    }\n\n    .dataframe thead th {\n        text-align: right;\n    }\n</style>\n<table border=\"1\" class=\"dataframe\">\n  <thead>\n    <tr style=\"text-align: right;\">\n      <th></th>\n      <th>вес</th>\n      <th>ингредиент_1</th>\n      <th>ингредиент_2</th>\n    </tr>\n  </thead>\n  <tbody>\n    <tr>\n      <th>вес</th>\n      <td>1.000000</td>\n      <td>-0.002662</td>\n      <td>0.664944</td>\n    </tr>\n    <tr>\n      <th>ингредиент_1</th>\n      <td>-0.002662</td>\n      <td>1.000000</td>\n      <td>0.091276</td>\n    </tr>\n    <tr>\n      <th>ингредиент_2</th>\n      <td>0.664944</td>\n      <td>0.091276</td>\n      <td>1.000000</td>\n    </tr>\n  </tbody>\n</table>\n</div>"
     },
     "execution_count": 31,
     "metadata": {},
     "output_type": "execute_result"
    }
   ],
   "source": [
    "new_df1 = df1[[\"вес\", \"ингредиент_1\", \"ингредиент_2\"]].sort_values(by=['ингредиент_2', 'ингредиент_1', 'вес'])\n",
    "new_df1.corr()"
   ],
   "metadata": {
    "collapsed": false,
    "ExecuteTime": {
     "end_time": "2024-02-25T08:51:37.597010253Z",
     "start_time": "2024-02-25T08:51:37.544632171Z"
    }
   },
   "id": "d94a3686beef748e",
   "execution_count": 31
  },
  {
   "cell_type": "markdown",
   "source": [
    "## Второе задание\n",
    "\n",
    "1) Перевести название колонок в стандарт PEP8:\n",
    "    \n",
    "    - перевести в нижний регистр\n",
    "    - пробелы между словами заменить на _\n",
    "    - язык сохранить - кириллица\n",
    "\n",
    "2) Сгруппировать по номеру партии (столбцу key) и найти сумму по каждому фактору.\n",
    "3) Рассчитать матрицу линейных корреляций между количественными данными для новой таблицы. Использовать метод корреляции для случая ненормального распределения данных.\n",
    "4) Вывести на экран матрицу корреляций. Если коэффициент корреляции менее 0.85 по модулю, то такие значения в матрице не должны выводится (вместо них должны стоять NaN).\n",
    "\n",
    "### Перевод в **PEP8**"
   ],
   "metadata": {
    "collapsed": false
   },
   "id": "4952f159ddc43ea5"
  },
  {
   "cell_type": "code",
   "outputs": [
    {
     "data": {
      "text/plain": "     key  полная_мощность  время_нагрева  вес_добавки\n0      1         0.305130       0.211253   346.384905\n1      1         0.765658       0.477438   382.505505\n2      1         0.580313       0.430460   407.239422\n3      1         0.518496       0.379979   393.062226\n4      1         0.867133       0.643691   403.623758\n..   ...              ...            ...          ...\n464  100         0.977779       0.748288   410.066723\n465  100         0.304473       0.201667   408.530426\n466  100         0.801634       0.680203   469.518846\n467  100         0.800764       0.575101   416.433912\n468  100         0.711236       0.527786   409.914830\n\n[469 rows x 4 columns]",
      "text/html": "<div>\n<style scoped>\n    .dataframe tbody tr th:only-of-type {\n        vertical-align: middle;\n    }\n\n    .dataframe tbody tr th {\n        vertical-align: top;\n    }\n\n    .dataframe thead th {\n        text-align: right;\n    }\n</style>\n<table border=\"1\" class=\"dataframe\">\n  <thead>\n    <tr style=\"text-align: right;\">\n      <th></th>\n      <th>key</th>\n      <th>полная_мощность</th>\n      <th>время_нагрева</th>\n      <th>вес_добавки</th>\n    </tr>\n  </thead>\n  <tbody>\n    <tr>\n      <th>0</th>\n      <td>1</td>\n      <td>0.305130</td>\n      <td>0.211253</td>\n      <td>346.384905</td>\n    </tr>\n    <tr>\n      <th>1</th>\n      <td>1</td>\n      <td>0.765658</td>\n      <td>0.477438</td>\n      <td>382.505505</td>\n    </tr>\n    <tr>\n      <th>2</th>\n      <td>1</td>\n      <td>0.580313</td>\n      <td>0.430460</td>\n      <td>407.239422</td>\n    </tr>\n    <tr>\n      <th>3</th>\n      <td>1</td>\n      <td>0.518496</td>\n      <td>0.379979</td>\n      <td>393.062226</td>\n    </tr>\n    <tr>\n      <th>4</th>\n      <td>1</td>\n      <td>0.867133</td>\n      <td>0.643691</td>\n      <td>403.623758</td>\n    </tr>\n    <tr>\n      <th>...</th>\n      <td>...</td>\n      <td>...</td>\n      <td>...</td>\n      <td>...</td>\n    </tr>\n    <tr>\n      <th>464</th>\n      <td>100</td>\n      <td>0.977779</td>\n      <td>0.748288</td>\n      <td>410.066723</td>\n    </tr>\n    <tr>\n      <th>465</th>\n      <td>100</td>\n      <td>0.304473</td>\n      <td>0.201667</td>\n      <td>408.530426</td>\n    </tr>\n    <tr>\n      <th>466</th>\n      <td>100</td>\n      <td>0.801634</td>\n      <td>0.680203</td>\n      <td>469.518846</td>\n    </tr>\n    <tr>\n      <th>467</th>\n      <td>100</td>\n      <td>0.800764</td>\n      <td>0.575101</td>\n      <td>416.433912</td>\n    </tr>\n    <tr>\n      <th>468</th>\n      <td>100</td>\n      <td>0.711236</td>\n      <td>0.527786</td>\n      <td>409.914830</td>\n    </tr>\n  </tbody>\n</table>\n<p>469 rows × 4 columns</p>\n</div>"
     },
     "execution_count": 32,
     "metadata": {},
     "output_type": "execute_result"
    }
   ],
   "source": [
    "df2.columns = df2.columns.str.replace(\" \", \"_\")  # замена пробелов\n",
    "df2.columns = df2.columns.str.lower()\n",
    "df2"
   ],
   "metadata": {
    "collapsed": false,
    "ExecuteTime": {
     "end_time": "2024-02-25T08:51:37.659242485Z",
     "start_time": "2024-02-25T08:51:37.557392658Z"
    }
   },
   "id": "af5de80d2826ce01",
   "execution_count": 32
  },
  {
   "cell_type": "code",
   "outputs": [
    {
     "name": "stdout",
     "output_type": "stream",
     "text": [
      "                 полная_мощность  время_нагрева  вес_добавки\n",
      "полная_мощность         1.000000       0.988677          NaN\n",
      "время_нагрева           0.988677       1.000000          NaN\n",
      "вес_добавки                  NaN            NaN          1.0\n"
     ]
    }
   ],
   "source": [
    "grouped_df2 = df2.groupby(\"key\").sum().corr(method=\"spearman\")\n",
    "grouped_df2 = grouped_df2.apply(\n",
    "    lambda x: x.apply(lambda y: None if abs(y) < 0.85 else y)\n",
    ")\n",
    "print(grouped_df2)"
   ],
   "metadata": {
    "collapsed": false,
    "ExecuteTime": {
     "end_time": "2024-02-25T08:51:37.660874868Z",
     "start_time": "2024-02-25T08:51:37.599616074Z"
    }
   },
   "id": "e7f5d580fba5ce87",
   "execution_count": 33
  },
  {
   "cell_type": "markdown",
   "source": [
    "## Третье задание\n",
    "\n",
    "1) Сформировать датасет из отсортированного в алфавитном порядке списка количественного фактора ингредиент_1 и качественного фактора брак.\n",
    "2) Используя теорию урока, выбрать метод и рассчитать по новому датасету взаимосвязь между данными.\n",
    "3) Результат вывести в виде числа с округлением до четвёртого знака.\n",
    "\n",
    "### Функция нахождения корреляции в номинально-количественных шкалах"
   ],
   "metadata": {
    "collapsed": false
   },
   "id": "ea041c99f496f783"
  },
  {
   "cell_type": "code",
   "outputs": [],
   "source": [
    "def correlation_ratio(category, values):\n",
    "    category = category.apply(lambda x: 1 if x == \"Годен\" else 0)\n",
    "    df = pd.DataFrame({\"category\": category, \"value\": values})\n",
    "    return abs(round(df[\"category\"].corr(df[\"value\"]), 4))"
   ],
   "metadata": {
    "collapsed": false,
    "ExecuteTime": {
     "end_time": "2024-02-25T08:51:37.672521568Z",
     "start_time": "2024-02-25T08:51:37.599996253Z"
    }
   },
   "id": "9b291fcb96dfcaaf",
   "execution_count": 34
  },
  {
   "cell_type": "markdown",
   "source": [
    "### Решение"
   ],
   "metadata": {
    "collapsed": false
   },
   "id": "4a16df81cb0abaca"
  },
  {
   "cell_type": "code",
   "outputs": [
    {
     "name": "stdout",
     "output_type": "stream",
     "text": [
      "0.4933\n"
     ]
    }
   ],
   "source": [
    "print(correlation_ratio(df1[\"брак\"], df1[\"ингредиент_1\"]))"
   ],
   "metadata": {
    "collapsed": false,
    "ExecuteTime": {
     "end_time": "2024-02-25T08:51:37.780749845Z",
     "start_time": "2024-02-25T08:51:37.605396496Z"
    }
   },
   "id": "663cfc3da16b20ee",
   "execution_count": 35
  },
  {
   "cell_type": "markdown",
   "source": [
    "## Четвёртое задание\n",
    "\n",
    "1) Сформировать новый датасет, используя условия отбора :\n",
    "    - номер_конвейера = 1\n",
    "    - номер_смены = 2\n",
    "\n",
    "2) Сформировать датасет из отсортированного в алфавитном порядке списка количественного фактора вес и качественного фактора брак.\n",
    "3) Используя теорию урока, выбрать метод и рассчитать по новому датасету взаимосвязь между данными в разных шкалах.\n",
    "4) Результат вывести с округлением до четвёртого знака."
   ],
   "metadata": {
    "collapsed": false
   },
   "id": "a510565df985d5b3"
  },
  {
   "cell_type": "code",
   "outputs": [
    {
     "name": "stdout",
     "output_type": "stream",
     "text": [
      "0.0509\n"
     ]
    }
   ],
   "source": [
    "new_df1 = df1[(df1[\"номер_конвейера\"] == 1) & (df1[\"номер_смены\"] == 2)]\n",
    "print(correlation_ratio(new_df1[\"брак\"], new_df1[\"вес\"]))"
   ],
   "metadata": {
    "collapsed": false,
    "ExecuteTime": {
     "end_time": "2024-02-25T08:51:37.863259158Z",
     "start_time": "2024-02-25T08:51:37.680338568Z"
    }
   },
   "id": "b59651583414dd1a",
   "execution_count": 36
  },
  {
   "cell_type": "markdown",
   "source": [
    "## Пятое задание\n",
    "\n",
    "1) Сформировать новый датасет, используя условия отбора:\n",
    "    - ингредиент_1 < 270\n",
    "    - номер_смены = 2\n",
    "\n",
    "2) Сформировать датасет из списка качественных факторов: оператор_линии и брак.\n",
    "3) Используя теорию урока, выбрать метод и рассчитать по новому датасету корреляцию для поиска взаимосвязи между данными в одинаковых качественных шкалах.\n",
    "4) Результат вывести в виде числа, с округлением до четвёртого знака.\n",
    "\n",
    "### Функция нахождения корреляции в номинально-количественных шкалах"
   ],
   "metadata": {
    "collapsed": false
   },
   "id": "4b1a51ae51c32e58"
  },
  {
   "cell_type": "code",
   "outputs": [],
   "source": [
    "def my_cramer(x: pd.Series, y: pd.Series) -> float:\n",
    "    conjugacy = pd.crosstab(x, y)\n",
    "    n = conjugacy.sum().sum()\n",
    "    chi2 = st.chi2_contingency(conjugacy)[0]\n",
    "    cramer_v = (chi2 / (n * (min(conjugacy.shape) - 1))) ** 0.5\n",
    "    return round(cramer_v, 4)"
   ],
   "metadata": {
    "collapsed": false,
    "ExecuteTime": {
     "end_time": "2024-02-25T08:51:37.932224010Z",
     "start_time": "2024-02-25T08:51:37.789207625Z"
    }
   },
   "id": "a3b18e22921b812",
   "execution_count": 37
  },
  {
   "cell_type": "markdown",
   "source": [
    "### Решение"
   ],
   "metadata": {
    "collapsed": false
   },
   "id": "6e3c76c61fda0450"
  },
  {
   "cell_type": "code",
   "outputs": [
    {
     "name": "stdout",
     "output_type": "stream",
     "text": [
      "0.3435\n"
     ]
    }
   ],
   "source": [
    "new_df1 = df1[(df1[\"ингредиент_1\"] < 270) & (df1[\"номер_смены\"] == 2)]\n",
    "print(my_cramer(new_df1[\"брак\"], new_df1[\"оператор_линии\"]))"
   ],
   "metadata": {
    "collapsed": false,
    "ExecuteTime": {
     "end_time": "2024-02-25T08:51:38.021416879Z",
     "start_time": "2024-02-25T08:51:37.922623367Z"
    }
   },
   "id": "1fc87ffbc450a251",
   "execution_count": 38
  },
  {
   "cell_type": "markdown",
   "source": [
    "## Шестое задание\n",
    "\n",
    "1) На основе фактора ингредиент 1 сформировать новый фактор ингредиент_кат, используя условия:\n",
    "    - если менее равно 270, то группа менее_270\n",
    "    - если более 270, то группа более_270\n",
    "\n",
    "2) Сформировать новый датасет из нового фактора ингредиент_кат и качественного фактора брак\n",
    "3) Используя теорию урока, выбрать метод и рассчитать по новому датасету корреляцию для поиска взаимосвязи между данными в одинаковых качественных шкалах.\n",
    "4) Результат вывести в виде числа, с округлением до четвёртого знака."
   ],
   "metadata": {
    "collapsed": false
   },
   "id": "21b47ee4b4d9e1f9"
  },
  {
   "cell_type": "code",
   "outputs": [
    {
     "name": "stdout",
     "output_type": "stream",
     "text": [
      "0.385\n"
     ]
    }
   ],
   "source": [
    "df1[\"ингредиент_кат\"] = df1[\"ингредиент_1\"].apply(lambda x: \"менее_270\" if x <= 270 else \"более_270\")\n",
    "print(my_cramer(df1[\"ингредиент_кат\"], df1[\"брак\"]))"
   ],
   "metadata": {
    "collapsed": false,
    "ExecuteTime": {
     "end_time": "2024-02-25T08:51:38.113686216Z",
     "start_time": "2024-02-25T08:51:37.998614482Z"
    }
   },
   "id": "c6261d3e0e0f8231",
   "execution_count": 39
  },
  {
   "cell_type": "markdown",
   "source": [
    "## Седьмое задание\n",
    "\n",
    "Построить график диаграммы рассеяния, используя библиотеку seaborn. При построении учесть:\n",
    "   - ось ОХ - фактор вес\n",
    "   - ось OY - фактор, название которого вводится\n",
    "   - на одном графике построить диаграмму рассеяния для двух групп. Группирующий фактор оператор_линии\n",
    "   - вывести заголовок диаграммы:\n",
    "    Диаграмма рассеяния: Анализ зависимости между факторами.\n",
    "    Причём отобразить название на двух строках. Пример ниже на картинке\n",
    "   - размер шрифт заголовка сделать 16\n",
    "   - расстояние от заголовка до начала графика сделать равным 1.01\n",
    "   - остальные настройки графика по цвету, шрифту, отступов - оставить по умолчанию\n",
    "\n",
    "Сохраните диаграмму в файл target_3_7.png.  "
   ],
   "metadata": {
    "collapsed": false
   },
   "id": "67fe99f31e9803dc"
  },
  {
   "cell_type": "code",
   "outputs": [
    {
     "data": {
      "text/plain": "<Figure size 640x480 with 1 Axes>",
      "image/png": "[encoded data removed]"
     },
     "metadata": {},
     "output_type": "display_data"
    }
   ],
   "source": [
    "sns.scatterplot(data=df1, x=\"вес\", y=input(), hue=\"оператор_линии\")\n",
    "plt.title(\"Диаграмма рассеяния:\\nАнализ зависимости между факторами\", fontsize=16, y=1.01)\n",
    "plt.savefig(\"target_3_7.png\")"
   ],
   "metadata": {
    "collapsed": false,
    "ExecuteTime": {
     "end_time": "2024-02-25T08:51:39.602424076Z",
     "start_time": "2024-02-25T08:51:38.067685103Z"
    }
   },
   "id": "e85455f1db410eb2",
   "execution_count": 40
  },
  {
   "cell_type": "code",
   "outputs": [],
   "source": [],
   "metadata": {
    "collapsed": false,
    "ExecuteTime": {
     "end_time": "2024-02-25T08:51:39.681064525Z",
     "start_time": "2024-02-25T08:51:39.601272767Z"
    }
   },
   "id": "bc9117522c8eb6ed",
   "execution_count": 40
  }
 ],
 "metadata": {
  "kernelspec": {
   "display_name": "Python 3",
   "language": "python",
   "name": "python3"
  },
  "language_info": {
   "codemirror_mode": {
    "name": "ipython",
    "version": 2
   },
   "file_extension": ".py",
   "mimetype": "text/x-python",
   "name": "python",
   "nbconvert_exporter": "python",
   "pygments_lexer": "ipython2",
   "version": "2.7.6"
  }
 },
 "nbformat": 4,
 "nbformat_minor": 5
}
